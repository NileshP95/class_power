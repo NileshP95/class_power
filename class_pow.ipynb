{
 "cells": [
  {
   "cell_type": "code",
   "execution_count": 5,
   "id": "2d5ee6b1",
   "metadata": {},
   "outputs": [
    {
     "name": "stdout",
     "output_type": "stream",
     "text": [
      "100\n"
     ]
    }
   ],
   "source": [
    "class py_pow:\n",
    "    def __init__(self,power,base):\n",
    "        self.power=power\n",
    "        self.base=base\n",
    "    def num(self):\n",
    "        return self.power**self.base\n",
    "powers = py_pow(10,2)\n",
    "print(powers.num())"
   ]
  },
  {
   "cell_type": "code",
   "execution_count": null,
   "id": "e11012a0",
   "metadata": {},
   "outputs": [],
   "source": []
  }
 ],
 "metadata": {
  "kernelspec": {
   "display_name": "Python 3 (ipykernel)",
   "language": "python",
   "name": "python3"
  },
  "language_info": {
   "codemirror_mode": {
    "name": "ipython",
    "version": 3
   },
   "file_extension": ".py",
   "mimetype": "text/x-python",
   "name": "python",
   "nbconvert_exporter": "python",
   "pygments_lexer": "ipython3",
   "version": "3.8.10"
  }
 },
 "nbformat": 4,
 "nbformat_minor": 5
}
